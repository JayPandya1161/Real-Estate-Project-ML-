{
 "cells": [
  {
   "cell_type": "code",
   "execution_count": 1,
   "id": "arctic-percentage",
   "metadata": {},
   "outputs": [
    {
     "data": {
      "text/plain": [
       "array([22.06])"
      ]
     },
     "execution_count": 1,
     "metadata": {},
     "output_type": "execute_result"
    }
   ],
   "source": [
    "from joblib import dump, load\n",
    "import numpy as np\n",
    "model_3 = load('RE.joblib') \n",
    "features = np.array([[-0.43803561, -0.48816033, -1.03122246, -0.26761547, -0.38849153,\n",
    "       -0.59044659,  0.014193  , -0.50420611, -0.52206387, -0.67560744,\n",
    "       -0.88075763,  0.41171531, -0.42841599]])\n",
    "model_3.predict(features)"
   ]
  },
  {
   "cell_type": "code",
   "execution_count": 2,
   "id": "adjustable-catalog",
   "metadata": {},
   "outputs": [
    {
     "data": {
      "text/plain": [
       "array([20.554])"
      ]
     },
     "execution_count": 2,
     "metadata": {},
     "output_type": "execute_result"
    }
   ],
   "source": [
    "from joblib import dump, load\n",
    "import numpy as np\n",
    "model_3 = load('RE.joblib') \n",
    "features = np.array([[-0.43974299, -0.48816033,  2.07938386, -0.26761547,  0.218856  ,\n",
    "       -0.38796944,  0.55793172, -0.74521334, -0.86744673, -1.31612945,\n",
    "        0.28298544,  0.2462144 ,  0.21279566]])\n",
    "model_3.predict(features)"
   ]
  },
  {
   "cell_type": "code",
   "execution_count": 3,
   "id": "underlying-validation",
   "metadata": {},
   "outputs": [
    {
     "data": {
      "text/plain": [
       "array([13.317])"
      ]
     },
     "execution_count": 3,
     "metadata": {},
     "output_type": "execute_result"
    }
   ],
   "source": [
    "from joblib import dump, load\n",
    "import numpy as np\n",
    "model_3 = load('RE.joblib') \n",
    "features = np.array([[ 0.71161886, -0.48816033,  0.99211174, -0.26761547,  1.17692535,\n",
    "        0.26414661,  1.07695505, -0.97055152,  1.66536094,  1.51877351,\n",
    "        0.79503239,  0.39841993,  0.60749398]])\n",
    "model_3.predict(features)"
   ]
  },
  {
   "cell_type": "code",
   "execution_count": null,
   "id": "swiss-sacrifice",
   "metadata": {},
   "outputs": [],
   "source": []
  }
 ],
 "metadata": {
  "kernelspec": {
   "display_name": "Python 3",
   "language": "python",
   "name": "python3"
  },
  "language_info": {
   "codemirror_mode": {
    "name": "ipython",
    "version": 3
   },
   "file_extension": ".py",
   "mimetype": "text/x-python",
   "name": "python",
   "nbconvert_exporter": "python",
   "pygments_lexer": "ipython3",
   "version": "3.8.5"
  }
 },
 "nbformat": 4,
 "nbformat_minor": 5
}
