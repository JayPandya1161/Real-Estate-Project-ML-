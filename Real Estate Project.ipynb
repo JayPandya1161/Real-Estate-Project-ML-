{
 "cells": [
  {
   "cell_type": "markdown",
   "id": "capable-chicken",
   "metadata": {},
   "source": [
    "# Real Estate Price Predictor (ML)"
   ]
  },
  {
   "cell_type": "markdown",
   "id": "secret-question",
   "metadata": {},
   "source": [
    "##### Here we are importing our three basic dependencies , approximately 90% of your projects would require you to import these three dependencies."
   ]
  },
  {
   "cell_type": "markdown",
   "id": "voluntary-inspection",
   "metadata": {},
   "source": [
    "1)Numpy — It’s a built in python library which helps in doing mathematical functions such as matrix multiplication , conversion , etc\n",
    "\n",
    "2)Pandas — The most important library , this library is used to import dataset and create data frames. which can be further used for analysis or prediction whatever you want to do!\n",
    "\n",
    "3)Matplotlib — it’s a tool used for data visualization and representation.\n",
    "\n",
    "4)%matplotlib inline —Since , I’m going to use jupyter(Ipython notebook) notebook i want my output (graph) to be inside the notebook."
   ]
  },
  {
   "cell_type": "code",
   "execution_count": 1,
   "id": "liquid-chicago",
   "metadata": {},
   "outputs": [],
   "source": [
    "import pandas as pd"
   ]
  },
  {
   "cell_type": "code",
   "execution_count": 2,
   "id": "known-spiritual",
   "metadata": {},
   "outputs": [],
   "source": [
    "housing = pd.read_csv(\"data.csv\")"
   ]
  },
  {
   "cell_type": "markdown",
   "id": "public-excess",
   "metadata": {},
   "source": [
    "we have successfully uploaded the file into our python ecosystem and created a data frame out of it and are ready to perform functions!"
   ]
  },
  {
   "cell_type": "code",
   "execution_count": 3,
   "id": "coastal-harrison",
   "metadata": {},
   "outputs": [
    {
     "data": {
      "text/html": [
       "<div>\n",
       "<style scoped>\n",
       "    .dataframe tbody tr th:only-of-type {\n",
       "        vertical-align: middle;\n",
       "    }\n",
       "\n",
       "    .dataframe tbody tr th {\n",
       "        vertical-align: top;\n",
       "    }\n",
       "\n",
       "    .dataframe thead th {\n",
       "        text-align: right;\n",
       "    }\n",
       "</style>\n",
       "<table border=\"1\" class=\"dataframe\">\n",
       "  <thead>\n",
       "    <tr style=\"text-align: right;\">\n",
       "      <th></th>\n",
       "      <th>CRIM</th>\n",
       "      <th>ZN</th>\n",
       "      <th>INDUS</th>\n",
       "      <th>CHAS</th>\n",
       "      <th>NOX</th>\n",
       "      <th>RM</th>\n",
       "      <th>AGE</th>\n",
       "      <th>DIS</th>\n",
       "      <th>RAD</th>\n",
       "      <th>TAX</th>\n",
       "      <th>PTRATIO</th>\n",
       "      <th>B</th>\n",
       "      <th>LSTAT</th>\n",
       "      <th>MEDV</th>\n",
       "    </tr>\n",
       "  </thead>\n",
       "  <tbody>\n",
       "    <tr>\n",
       "      <th>0</th>\n",
       "      <td>0.00632</td>\n",
       "      <td>18.0</td>\n",
       "      <td>2.31</td>\n",
       "      <td>0</td>\n",
       "      <td>0.538</td>\n",
       "      <td>6.575</td>\n",
       "      <td>65.2</td>\n",
       "      <td>4.0900</td>\n",
       "      <td>1</td>\n",
       "      <td>296</td>\n",
       "      <td>15.3</td>\n",
       "      <td>396.90</td>\n",
       "      <td>4.98</td>\n",
       "      <td>24.0</td>\n",
       "    </tr>\n",
       "    <tr>\n",
       "      <th>1</th>\n",
       "      <td>0.02731</td>\n",
       "      <td>0.0</td>\n",
       "      <td>7.07</td>\n",
       "      <td>0</td>\n",
       "      <td>0.469</td>\n",
       "      <td>6.421</td>\n",
       "      <td>78.9</td>\n",
       "      <td>4.9671</td>\n",
       "      <td>2</td>\n",
       "      <td>242</td>\n",
       "      <td>17.8</td>\n",
       "      <td>396.90</td>\n",
       "      <td>9.14</td>\n",
       "      <td>21.6</td>\n",
       "    </tr>\n",
       "    <tr>\n",
       "      <th>2</th>\n",
       "      <td>0.02729</td>\n",
       "      <td>0.0</td>\n",
       "      <td>7.07</td>\n",
       "      <td>0</td>\n",
       "      <td>0.469</td>\n",
       "      <td>7.185</td>\n",
       "      <td>61.1</td>\n",
       "      <td>4.9671</td>\n",
       "      <td>2</td>\n",
       "      <td>242</td>\n",
       "      <td>17.8</td>\n",
       "      <td>392.83</td>\n",
       "      <td>4.03</td>\n",
       "      <td>34.7</td>\n",
       "    </tr>\n",
       "    <tr>\n",
       "      <th>3</th>\n",
       "      <td>0.03237</td>\n",
       "      <td>0.0</td>\n",
       "      <td>2.18</td>\n",
       "      <td>0</td>\n",
       "      <td>0.458</td>\n",
       "      <td>6.998</td>\n",
       "      <td>45.8</td>\n",
       "      <td>6.0622</td>\n",
       "      <td>3</td>\n",
       "      <td>222</td>\n",
       "      <td>18.7</td>\n",
       "      <td>394.63</td>\n",
       "      <td>2.94</td>\n",
       "      <td>33.4</td>\n",
       "    </tr>\n",
       "    <tr>\n",
       "      <th>4</th>\n",
       "      <td>0.06905</td>\n",
       "      <td>0.0</td>\n",
       "      <td>2.18</td>\n",
       "      <td>0</td>\n",
       "      <td>0.458</td>\n",
       "      <td>7.147</td>\n",
       "      <td>54.2</td>\n",
       "      <td>6.0622</td>\n",
       "      <td>3</td>\n",
       "      <td>222</td>\n",
       "      <td>18.7</td>\n",
       "      <td>396.90</td>\n",
       "      <td>5.33</td>\n",
       "      <td>36.2</td>\n",
       "    </tr>\n",
       "  </tbody>\n",
       "</table>\n",
       "</div>"
      ],
      "text/plain": [
       "      CRIM   ZN   INDUS  CHAS     NOX     RM   AGE     DIS  RAD  TAX   \\\n",
       "0  0.00632  18.0   2.31      0  0.538  6.575  65.2  4.0900    1   296   \n",
       "1  0.02731   0.0   7.07      0  0.469  6.421  78.9  4.9671    2   242   \n",
       "2  0.02729   0.0   7.07      0  0.469  7.185  61.1  4.9671    2   242   \n",
       "3  0.03237   0.0   2.18      0  0.458  6.998  45.8  6.0622    3   222   \n",
       "4  0.06905   0.0   2.18      0  0.458  7.147  54.2  6.0622    3   222   \n",
       "\n",
       "   PTRATIO       B  LSTAT  MEDV  \n",
       "0     15.3  396.90   4.98  24.0  \n",
       "1     17.8  396.90   9.14  21.6  \n",
       "2     17.8  392.83   4.03  34.7  \n",
       "3     18.7  394.63   2.94  33.4  \n",
       "4     18.7  396.90   5.33  36.2  "
      ]
     },
     "execution_count": 3,
     "metadata": {},
     "output_type": "execute_result"
    }
   ],
   "source": [
    "housing.head()"
   ]
  },
  {
   "cell_type": "code",
   "execution_count": 4,
   "id": "different-vancouver",
   "metadata": {},
   "outputs": [
    {
     "name": "stdout",
     "output_type": "stream",
     "text": [
      "<class 'pandas.core.frame.DataFrame'>\n",
      "RangeIndex: 506 entries, 0 to 505\n",
      "Data columns (total 14 columns):\n",
      " #   Column   Non-Null Count  Dtype  \n",
      "---  ------   --------------  -----  \n",
      " 0   CRIM     506 non-null    float64\n",
      " 1   ZN       506 non-null    float64\n",
      " 2   INDUS    506 non-null    float64\n",
      " 3   CHAS     506 non-null    int64  \n",
      " 4   NOX      506 non-null    float64\n",
      " 5   RM       506 non-null    float64\n",
      " 6   AGE      506 non-null    float64\n",
      " 7   DIS      506 non-null    float64\n",
      " 8   RAD      506 non-null    int64  \n",
      " 9   TAX      506 non-null    int64  \n",
      " 10  PTRATIO  506 non-null    float64\n",
      " 11  B        506 non-null    float64\n",
      " 12  LSTAT    506 non-null    float64\n",
      " 13  MEDV     506 non-null    float64\n",
      "dtypes: float64(11), int64(3)\n",
      "memory usage: 55.4 KB\n"
     ]
    }
   ],
   "source": [
    "housing.info()"
   ]
  },
  {
   "cell_type": "code",
   "execution_count": 5,
   "id": "owned-story",
   "metadata": {},
   "outputs": [
    {
     "name": "stdout",
     "output_type": "stream",
     "text": [
      "(506, 14)\n",
      "7084\n"
     ]
    }
   ],
   "source": [
    "print(housing.shape)\n",
    "print(housing.size)"
   ]
  },
  {
   "cell_type": "markdown",
   "id": "official-material",
   "metadata": {},
   "source": [
    "Here we can see the data has 506 rows and 14 columns and total data size of 7084."
   ]
  },
  {
   "cell_type": "code",
   "execution_count": 6,
   "id": "established-charleston",
   "metadata": {},
   "outputs": [
    {
     "data": {
      "text/plain": [
       "8.05     3\n",
       "6.36     3\n",
       "18.13    3\n",
       "14.10    3\n",
       "7.79     3\n",
       "        ..\n",
       "22.98    1\n",
       "6.57     1\n",
       "14.43    1\n",
       "7.56     1\n",
       "9.25     1\n",
       "Name: LSTAT, Length: 455, dtype: int64"
      ]
     },
     "execution_count": 6,
     "metadata": {},
     "output_type": "execute_result"
    }
   ],
   "source": [
    "housing['LSTAT'].value_counts()"
   ]
  },
  {
   "cell_type": "code",
   "execution_count": 7,
   "id": "governing-disease",
   "metadata": {},
   "outputs": [
    {
     "data": {
      "text/html": [
       "<div>\n",
       "<style scoped>\n",
       "    .dataframe tbody tr th:only-of-type {\n",
       "        vertical-align: middle;\n",
       "    }\n",
       "\n",
       "    .dataframe tbody tr th {\n",
       "        vertical-align: top;\n",
       "    }\n",
       "\n",
       "    .dataframe thead th {\n",
       "        text-align: right;\n",
       "    }\n",
       "</style>\n",
       "<table border=\"1\" class=\"dataframe\">\n",
       "  <thead>\n",
       "    <tr style=\"text-align: right;\">\n",
       "      <th></th>\n",
       "      <th>CRIM</th>\n",
       "      <th>ZN</th>\n",
       "      <th>INDUS</th>\n",
       "      <th>CHAS</th>\n",
       "      <th>NOX</th>\n",
       "      <th>RM</th>\n",
       "      <th>AGE</th>\n",
       "      <th>DIS</th>\n",
       "      <th>RAD</th>\n",
       "      <th>TAX</th>\n",
       "      <th>PTRATIO</th>\n",
       "      <th>B</th>\n",
       "      <th>LSTAT</th>\n",
       "      <th>MEDV</th>\n",
       "    </tr>\n",
       "  </thead>\n",
       "  <tbody>\n",
       "    <tr>\n",
       "      <th>count</th>\n",
       "      <td>506.000000</td>\n",
       "      <td>506.000000</td>\n",
       "      <td>506.000000</td>\n",
       "      <td>506.000000</td>\n",
       "      <td>506.000000</td>\n",
       "      <td>506.000000</td>\n",
       "      <td>506.000000</td>\n",
       "      <td>506.000000</td>\n",
       "      <td>506.000000</td>\n",
       "      <td>506.000000</td>\n",
       "      <td>506.000000</td>\n",
       "      <td>506.000000</td>\n",
       "      <td>506.000000</td>\n",
       "      <td>506.000000</td>\n",
       "    </tr>\n",
       "    <tr>\n",
       "      <th>mean</th>\n",
       "      <td>3.613524</td>\n",
       "      <td>11.363636</td>\n",
       "      <td>11.136779</td>\n",
       "      <td>0.069170</td>\n",
       "      <td>0.554695</td>\n",
       "      <td>6.284634</td>\n",
       "      <td>68.574901</td>\n",
       "      <td>3.795043</td>\n",
       "      <td>9.549407</td>\n",
       "      <td>408.237154</td>\n",
       "      <td>18.455534</td>\n",
       "      <td>356.674032</td>\n",
       "      <td>12.653063</td>\n",
       "      <td>22.532806</td>\n",
       "    </tr>\n",
       "    <tr>\n",
       "      <th>std</th>\n",
       "      <td>8.601545</td>\n",
       "      <td>23.322453</td>\n",
       "      <td>6.860353</td>\n",
       "      <td>0.253994</td>\n",
       "      <td>0.115878</td>\n",
       "      <td>0.702617</td>\n",
       "      <td>28.148861</td>\n",
       "      <td>2.105710</td>\n",
       "      <td>8.707259</td>\n",
       "      <td>168.537116</td>\n",
       "      <td>2.164946</td>\n",
       "      <td>91.294864</td>\n",
       "      <td>7.141062</td>\n",
       "      <td>9.197104</td>\n",
       "    </tr>\n",
       "    <tr>\n",
       "      <th>min</th>\n",
       "      <td>0.006320</td>\n",
       "      <td>0.000000</td>\n",
       "      <td>0.460000</td>\n",
       "      <td>0.000000</td>\n",
       "      <td>0.385000</td>\n",
       "      <td>3.561000</td>\n",
       "      <td>2.900000</td>\n",
       "      <td>1.129600</td>\n",
       "      <td>1.000000</td>\n",
       "      <td>187.000000</td>\n",
       "      <td>12.600000</td>\n",
       "      <td>0.320000</td>\n",
       "      <td>1.730000</td>\n",
       "      <td>5.000000</td>\n",
       "    </tr>\n",
       "    <tr>\n",
       "      <th>25%</th>\n",
       "      <td>0.082045</td>\n",
       "      <td>0.000000</td>\n",
       "      <td>5.190000</td>\n",
       "      <td>0.000000</td>\n",
       "      <td>0.449000</td>\n",
       "      <td>5.885500</td>\n",
       "      <td>45.025000</td>\n",
       "      <td>2.100175</td>\n",
       "      <td>4.000000</td>\n",
       "      <td>279.000000</td>\n",
       "      <td>17.400000</td>\n",
       "      <td>375.377500</td>\n",
       "      <td>6.950000</td>\n",
       "      <td>17.025000</td>\n",
       "    </tr>\n",
       "    <tr>\n",
       "      <th>50%</th>\n",
       "      <td>0.256510</td>\n",
       "      <td>0.000000</td>\n",
       "      <td>9.690000</td>\n",
       "      <td>0.000000</td>\n",
       "      <td>0.538000</td>\n",
       "      <td>6.208500</td>\n",
       "      <td>77.500000</td>\n",
       "      <td>3.207450</td>\n",
       "      <td>5.000000</td>\n",
       "      <td>330.000000</td>\n",
       "      <td>19.050000</td>\n",
       "      <td>391.440000</td>\n",
       "      <td>11.360000</td>\n",
       "      <td>21.200000</td>\n",
       "    </tr>\n",
       "    <tr>\n",
       "      <th>75%</th>\n",
       "      <td>3.677083</td>\n",
       "      <td>12.500000</td>\n",
       "      <td>18.100000</td>\n",
       "      <td>0.000000</td>\n",
       "      <td>0.624000</td>\n",
       "      <td>6.623500</td>\n",
       "      <td>94.075000</td>\n",
       "      <td>5.188425</td>\n",
       "      <td>24.000000</td>\n",
       "      <td>666.000000</td>\n",
       "      <td>20.200000</td>\n",
       "      <td>396.225000</td>\n",
       "      <td>16.955000</td>\n",
       "      <td>25.000000</td>\n",
       "    </tr>\n",
       "    <tr>\n",
       "      <th>max</th>\n",
       "      <td>88.976200</td>\n",
       "      <td>100.000000</td>\n",
       "      <td>27.740000</td>\n",
       "      <td>1.000000</td>\n",
       "      <td>0.871000</td>\n",
       "      <td>8.780000</td>\n",
       "      <td>100.000000</td>\n",
       "      <td>12.126500</td>\n",
       "      <td>24.000000</td>\n",
       "      <td>711.000000</td>\n",
       "      <td>22.000000</td>\n",
       "      <td>396.900000</td>\n",
       "      <td>37.970000</td>\n",
       "      <td>50.000000</td>\n",
       "    </tr>\n",
       "  </tbody>\n",
       "</table>\n",
       "</div>"
      ],
      "text/plain": [
       "             CRIM         ZN        INDUS       CHAS          NOX          RM  \\\n",
       "count  506.000000  506.000000  506.000000  506.000000  506.000000  506.000000   \n",
       "mean     3.613524   11.363636   11.136779    0.069170    0.554695    6.284634   \n",
       "std      8.601545   23.322453    6.860353    0.253994    0.115878    0.702617   \n",
       "min      0.006320    0.000000    0.460000    0.000000    0.385000    3.561000   \n",
       "25%      0.082045    0.000000    5.190000    0.000000    0.449000    5.885500   \n",
       "50%      0.256510    0.000000    9.690000    0.000000    0.538000    6.208500   \n",
       "75%      3.677083   12.500000   18.100000    0.000000    0.624000    6.623500   \n",
       "max     88.976200  100.000000   27.740000    1.000000    0.871000    8.780000   \n",
       "\n",
       "              AGE         DIS         RAD        TAX      PTRATIO           B  \\\n",
       "count  506.000000  506.000000  506.000000  506.000000  506.000000  506.000000   \n",
       "mean    68.574901    3.795043    9.549407  408.237154   18.455534  356.674032   \n",
       "std     28.148861    2.105710    8.707259  168.537116    2.164946   91.294864   \n",
       "min      2.900000    1.129600    1.000000  187.000000   12.600000    0.320000   \n",
       "25%     45.025000    2.100175    4.000000  279.000000   17.400000  375.377500   \n",
       "50%     77.500000    3.207450    5.000000  330.000000   19.050000  391.440000   \n",
       "75%     94.075000    5.188425   24.000000  666.000000   20.200000  396.225000   \n",
       "max    100.000000   12.126500   24.000000  711.000000   22.000000  396.900000   \n",
       "\n",
       "            LSTAT        MEDV  \n",
       "count  506.000000  506.000000  \n",
       "mean    12.653063   22.532806  \n",
       "std      7.141062    9.197104  \n",
       "min      1.730000    5.000000  \n",
       "25%      6.950000   17.025000  \n",
       "50%     11.360000   21.200000  \n",
       "75%     16.955000   25.000000  \n",
       "max     37.970000   50.000000  "
      ]
     },
     "execution_count": 7,
     "metadata": {},
     "output_type": "execute_result"
    }
   ],
   "source": [
    "housing.describe()"
   ]
  },
  {
   "cell_type": "markdown",
   "id": "disabled-discretion",
   "metadata": {},
   "source": [
    "1) Look at the CRIM columns , the dataset has a MAX rate of 88.97 , seems to be a dangerous house and would not be interesting to buy it as we progress.\n",
    "\n",
    "2) Maximum TAX RATE is 711.000000 where as the minimum is 168.537116. we can see that the data is distributed."
   ]
  },
  {
   "cell_type": "markdown",
   "id": "global-increase",
   "metadata": {},
   "source": [
    "## visualize data using matplotlib¶"
   ]
  },
  {
   "cell_type": "code",
   "execution_count": 8,
   "id": "traditional-purple",
   "metadata": {},
   "outputs": [],
   "source": [
    "%matplotlib inline"
   ]
  },
  {
   "cell_type": "code",
   "execution_count": 9,
   "id": "occupied-musical",
   "metadata": {},
   "outputs": [],
   "source": [
    "import matplotlib.pyplot as plt"
   ]
  },
  {
   "cell_type": "code",
   "execution_count": 10,
   "id": "otherwise-karaoke",
   "metadata": {},
   "outputs": [
    {
     "data": {
      "text/plain": [
       "array([[<AxesSubplot:title={'center':'CRIM'}>,\n",
       "        <AxesSubplot:title={'center':'ZN '}>,\n",
       "        <AxesSubplot:title={'center':'INDUS'}>,\n",
       "        <AxesSubplot:title={'center':'CHAS '}>],\n",
       "       [<AxesSubplot:title={'center':'NOX'}>,\n",
       "        <AxesSubplot:title={'center':'RM'}>,\n",
       "        <AxesSubplot:title={'center':'AGE'}>,\n",
       "        <AxesSubplot:title={'center':'DIS'}>],\n",
       "       [<AxesSubplot:title={'center':'RAD'}>,\n",
       "        <AxesSubplot:title={'center':'TAX '}>,\n",
       "        <AxesSubplot:title={'center':'PTRATIO'}>,\n",
       "        <AxesSubplot:title={'center':'B'}>],\n",
       "       [<AxesSubplot:title={'center':'LSTAT'}>,\n",
       "        <AxesSubplot:title={'center':'MEDV'}>, <AxesSubplot:>,\n",
       "        <AxesSubplot:>]], dtype=object)"
      ]
     },
     "execution_count": 10,
     "metadata": {},
     "output_type": "execute_result"
    },
    {
     "data": {
      "image/png": "[encoded data removed]",
      "text/plain": [
       "<Figure size 1440x1080 with 16 Axes>"
      ]
     },
     "metadata": {
      "needs_background": "light"
     },
     "output_type": "display_data"
    }
   ],
   "source": [
    "housing.hist(bins=50,figsize=(20,15))"
   ]
  },
  {
   "cell_type": "markdown",
   "id": "exact-pencil",
   "metadata": {},
   "source": [
    "## visualize data individual "
   ]
  },
  {
   "cell_type": "code",
   "execution_count": 11,
   "id": "inside-wholesale",
   "metadata": {},
   "outputs": [
    {
     "data": {
      "image/png": "[encoded data removed]",
      "text/plain": [
       "<Figure size 432x288 with 1 Axes>"
      ]
     },
     "metadata": {
      "needs_background": "light"
     },
     "output_type": "display_data"
    }
   ],
   "source": [
    "plt.figure()\n",
    "housing['RM'].hist(bins=10)\n",
    "plt.title(\"RM Distribution\")\n",
    "plt.xlabel('RM')\n",
    "plt.ylabel('Number of Data')\n",
    "plt.show()"
   ]
  },
  {
   "cell_type": "code",
   "execution_count": 12,
   "id": "bacterial-parish",
   "metadata": {},
   "outputs": [
    {
     "data": {
      "image/png": "[encoded data removed]",
      "text/plain": [
       "<Figure size 432x288 with 1 Axes>"
      ]
     },
     "metadata": {
      "needs_background": "light"
     },
     "output_type": "display_data"
    }
   ],
   "source": [
    "plt.figure()\n",
    "housing['MEDV'].hist(bins=60)\n",
    "plt.title(\"MEDV Distribution\")\n",
    "plt.xlabel('MEDV')\n",
    "plt.ylabel('Number of Data')\n",
    "plt.show()"
   ]
  },
  {
   "cell_type": "markdown",
   "id": "english-motivation",
   "metadata": {},
   "source": [
    "***After seeing the graph we can infer something from the data , what all things can be inferred ?***\n",
    "\n",
    "\n",
    "1) There are mostly 6 average number of rooms per dwelling.\n",
    "\n",
    "2) Median value of owner-occupied homes in $1000's is mainly around 20,max 50. "
   ]
  },
  {
   "cell_type": "markdown",
   "id": "generic-mambo",
   "metadata": {},
   "source": [
    "****"
   ]
  },
  {
   "cell_type": "markdown",
   "id": "maritime-controversy",
   "metadata": {},
   "source": [
    "**Let’s see which is most common index of accessibility to radial highways number. You may wonder why is it important ? Let’s look at this problem from a builder’s perspective, sometimes it’s important for a builder to see which is the highest selling house type which enables the builder to make house based on that.**"
   ]
  },
  {
   "cell_type": "markdown",
   "id": "photographic-cover",
   "metadata": {},
   "source": [
    "Here in India , for a good locality a builder opts to make houses which have more accessibility to radial highways which attracts the higher middle class and upper class section of the society."
   ]
  },
  {
   "cell_type": "code",
   "execution_count": 13,
   "id": "representative-timing",
   "metadata": {},
   "outputs": [
    {
     "data": {
      "text/plain": [
       "<function seaborn.utils.despine(fig=None, ax=None, top=True, right=True, left=False, bottom=False, offset=None, trim=False)>"
      ]
     },
     "execution_count": 13,
     "metadata": {},
     "output_type": "execute_result"
    },
    {
     "data": {
      "image/png": "[encoded data removed]",
      "text/plain": [
       "<Figure size 432x288 with 1 Axes>"
      ]
     },
     "metadata": {
      "needs_background": "light"
     },
     "output_type": "display_data"
    }
   ],
   "source": [
    "import seaborn as sns\n",
    "housing['RAD'].value_counts().plot(kind='bar')\n",
    "plt.title('accessibility to radial highways')\n",
    "plt.xlabel('radial highways')\n",
    "plt.ylabel('Count')\n",
    "sns.despine"
   ]
  },
  {
   "cell_type": "markdown",
   "id": "driven-enlargement",
   "metadata": {},
   "source": [
    "## Method for Training And Testing"
   ]
  },
  {
   "cell_type": "markdown",
   "id": "electoral-belly",
   "metadata": {},
   "source": [
    "We are required to import sklearn , Built in python library again for statistical tools. Sklearn serves all purpose and is a very powerful tool to work with."
   ]
  },
  {
   "cell_type": "markdown",
   "id": "stuck-bench",
   "metadata": {},
   "source": [
    "***Prerequisite for train_test_split is to have two sets of data***\n",
    "\n",
    "1)Train data — this data is used to train the computer\n",
    "\n",
    "2)Test — Test data is usually small in size and is used to check accuracy of the machine on the data"
   ]
  },
  {
   "cell_type": "code",
   "execution_count": 14,
   "id": "accredited-anatomy",
   "metadata": {},
   "outputs": [
    {
     "name": "stdout",
     "output_type": "stream",
     "text": [
      "Rows in train set: 404\n",
      "Rows in test set: 102\n",
      "\n"
     ]
    }
   ],
   "source": [
    "from sklearn.model_selection import train_test_split\n",
    "train_set, test_set = train_test_split(housing,test_size=0.2, random_state=42)\n",
    "print(f\"Rows in train set: {len(train_set)}\\nRows in test set: {len(test_set)}\\n\")"
   ]
  },
  {
   "cell_type": "code",
   "execution_count": 15,
   "id": "geographic-series",
   "metadata": {},
   "outputs": [],
   "source": [
    "from sklearn.model_selection import StratifiedShuffleSplit\n",
    "split = StratifiedShuffleSplit(n_splits=1,test_size=0.2,random_state=42)\n",
    "for train_index,test_index in split.split(housing, housing['RAD']):\n",
    "    strat_train_set = housing.loc[train_index]\n",
    "    strat_test_set = housing.loc[test_index]"
   ]
  },
  {
   "cell_type": "code",
   "execution_count": 16,
   "id": "attempted-acrobat",
   "metadata": {},
   "outputs": [
    {
     "data": {
      "text/html": [
       "<div>\n",
       "<style scoped>\n",
       "    .dataframe tbody tr th:only-of-type {\n",
       "        vertical-align: middle;\n",
       "    }\n",
       "\n",
       "    .dataframe tbody tr th {\n",
       "        vertical-align: top;\n",
       "    }\n",
       "\n",
       "    .dataframe thead th {\n",
       "        text-align: right;\n",
       "    }\n",
       "</style>\n",
       "<table border=\"1\" class=\"dataframe\">\n",
       "  <thead>\n",
       "    <tr style=\"text-align: right;\">\n",
       "      <th></th>\n",
       "      <th>CRIM</th>\n",
       "      <th>ZN</th>\n",
       "      <th>INDUS</th>\n",
       "      <th>CHAS</th>\n",
       "      <th>NOX</th>\n",
       "      <th>RM</th>\n",
       "      <th>AGE</th>\n",
       "      <th>DIS</th>\n",
       "      <th>RAD</th>\n",
       "      <th>TAX</th>\n",
       "      <th>PTRATIO</th>\n",
       "      <th>B</th>\n",
       "      <th>LSTAT</th>\n",
       "      <th>MEDV</th>\n",
       "    </tr>\n",
       "  </thead>\n",
       "  <tbody>\n",
       "    <tr>\n",
       "      <th>150</th>\n",
       "      <td>1.65660</td>\n",
       "      <td>0.0</td>\n",
       "      <td>19.58</td>\n",
       "      <td>0</td>\n",
       "      <td>0.871</td>\n",
       "      <td>6.122</td>\n",
       "      <td>97.3</td>\n",
       "      <td>1.6180</td>\n",
       "      <td>5</td>\n",
       "      <td>403</td>\n",
       "      <td>14.7</td>\n",
       "      <td>372.80</td>\n",
       "      <td>14.10</td>\n",
       "      <td>21.5</td>\n",
       "    </tr>\n",
       "    <tr>\n",
       "      <th>53</th>\n",
       "      <td>0.04981</td>\n",
       "      <td>21.0</td>\n",
       "      <td>5.64</td>\n",
       "      <td>0</td>\n",
       "      <td>0.439</td>\n",
       "      <td>5.998</td>\n",
       "      <td>21.4</td>\n",
       "      <td>6.8147</td>\n",
       "      <td>4</td>\n",
       "      <td>243</td>\n",
       "      <td>16.8</td>\n",
       "      <td>396.90</td>\n",
       "      <td>8.43</td>\n",
       "      <td>23.4</td>\n",
       "    </tr>\n",
       "    <tr>\n",
       "      <th>496</th>\n",
       "      <td>0.28960</td>\n",
       "      <td>0.0</td>\n",
       "      <td>9.69</td>\n",
       "      <td>0</td>\n",
       "      <td>0.585</td>\n",
       "      <td>5.390</td>\n",
       "      <td>72.9</td>\n",
       "      <td>2.7986</td>\n",
       "      <td>6</td>\n",
       "      <td>391</td>\n",
       "      <td>19.2</td>\n",
       "      <td>396.90</td>\n",
       "      <td>21.14</td>\n",
       "      <td>19.7</td>\n",
       "    </tr>\n",
       "    <tr>\n",
       "      <th>1</th>\n",
       "      <td>0.02731</td>\n",
       "      <td>0.0</td>\n",
       "      <td>7.07</td>\n",
       "      <td>0</td>\n",
       "      <td>0.469</td>\n",
       "      <td>6.421</td>\n",
       "      <td>78.9</td>\n",
       "      <td>4.9671</td>\n",
       "      <td>2</td>\n",
       "      <td>242</td>\n",
       "      <td>17.8</td>\n",
       "      <td>396.90</td>\n",
       "      <td>9.14</td>\n",
       "      <td>21.6</td>\n",
       "    </tr>\n",
       "    <tr>\n",
       "      <th>183</th>\n",
       "      <td>0.10008</td>\n",
       "      <td>0.0</td>\n",
       "      <td>2.46</td>\n",
       "      <td>0</td>\n",
       "      <td>0.488</td>\n",
       "      <td>6.563</td>\n",
       "      <td>95.6</td>\n",
       "      <td>2.8470</td>\n",
       "      <td>3</td>\n",
       "      <td>193</td>\n",
       "      <td>17.8</td>\n",
       "      <td>396.90</td>\n",
       "      <td>5.68</td>\n",
       "      <td>32.5</td>\n",
       "    </tr>\n",
       "    <tr>\n",
       "      <th>...</th>\n",
       "      <td>...</td>\n",
       "      <td>...</td>\n",
       "      <td>...</td>\n",
       "      <td>...</td>\n",
       "      <td>...</td>\n",
       "      <td>...</td>\n",
       "      <td>...</td>\n",
       "      <td>...</td>\n",
       "      <td>...</td>\n",
       "      <td>...</td>\n",
       "      <td>...</td>\n",
       "      <td>...</td>\n",
       "      <td>...</td>\n",
       "      <td>...</td>\n",
       "    </tr>\n",
       "    <tr>\n",
       "      <th>55</th>\n",
       "      <td>0.01311</td>\n",
       "      <td>90.0</td>\n",
       "      <td>1.22</td>\n",
       "      <td>0</td>\n",
       "      <td>0.403</td>\n",
       "      <td>7.249</td>\n",
       "      <td>21.9</td>\n",
       "      <td>8.6966</td>\n",
       "      <td>5</td>\n",
       "      <td>226</td>\n",
       "      <td>17.9</td>\n",
       "      <td>395.93</td>\n",
       "      <td>4.81</td>\n",
       "      <td>35.4</td>\n",
       "    </tr>\n",
       "    <tr>\n",
       "      <th>380</th>\n",
       "      <td>88.97620</td>\n",
       "      <td>0.0</td>\n",
       "      <td>18.10</td>\n",
       "      <td>0</td>\n",
       "      <td>0.671</td>\n",
       "      <td>6.968</td>\n",
       "      <td>91.9</td>\n",
       "      <td>1.4165</td>\n",
       "      <td>24</td>\n",
       "      <td>666</td>\n",
       "      <td>20.2</td>\n",
       "      <td>396.90</td>\n",
       "      <td>17.21</td>\n",
       "      <td>10.4</td>\n",
       "    </tr>\n",
       "    <tr>\n",
       "      <th>497</th>\n",
       "      <td>0.26838</td>\n",
       "      <td>0.0</td>\n",
       "      <td>9.69</td>\n",
       "      <td>0</td>\n",
       "      <td>0.585</td>\n",
       "      <td>5.794</td>\n",
       "      <td>70.6</td>\n",
       "      <td>2.8927</td>\n",
       "      <td>6</td>\n",
       "      <td>391</td>\n",
       "      <td>19.2</td>\n",
       "      <td>396.90</td>\n",
       "      <td>14.10</td>\n",
       "      <td>18.3</td>\n",
       "    </tr>\n",
       "    <tr>\n",
       "      <th>354</th>\n",
       "      <td>0.04301</td>\n",
       "      <td>80.0</td>\n",
       "      <td>1.91</td>\n",
       "      <td>0</td>\n",
       "      <td>0.413</td>\n",
       "      <td>5.663</td>\n",
       "      <td>21.9</td>\n",
       "      <td>10.5857</td>\n",
       "      <td>4</td>\n",
       "      <td>334</td>\n",
       "      <td>22.0</td>\n",
       "      <td>382.80</td>\n",
       "      <td>8.05</td>\n",
       "      <td>18.2</td>\n",
       "    </tr>\n",
       "    <tr>\n",
       "      <th>170</th>\n",
       "      <td>1.20742</td>\n",
       "      <td>0.0</td>\n",
       "      <td>19.58</td>\n",
       "      <td>0</td>\n",
       "      <td>0.605</td>\n",
       "      <td>5.875</td>\n",
       "      <td>94.6</td>\n",
       "      <td>2.4259</td>\n",
       "      <td>5</td>\n",
       "      <td>403</td>\n",
       "      <td>14.7</td>\n",
       "      <td>292.29</td>\n",
       "      <td>14.43</td>\n",
       "      <td>17.4</td>\n",
       "    </tr>\n",
       "  </tbody>\n",
       "</table>\n",
       "<p>102 rows × 14 columns</p>\n",
       "</div>"
      ],
      "text/plain": [
       "         CRIM   ZN   INDUS  CHAS     NOX     RM   AGE      DIS  RAD  TAX   \\\n",
       "150   1.65660   0.0  19.58      0  0.871  6.122  97.3   1.6180    5   403   \n",
       "53    0.04981  21.0   5.64      0  0.439  5.998  21.4   6.8147    4   243   \n",
       "496   0.28960   0.0   9.69      0  0.585  5.390  72.9   2.7986    6   391   \n",
       "1     0.02731   0.0   7.07      0  0.469  6.421  78.9   4.9671    2   242   \n",
       "183   0.10008   0.0   2.46      0  0.488  6.563  95.6   2.8470    3   193   \n",
       "..        ...   ...    ...    ...    ...    ...   ...      ...  ...   ...   \n",
       "55    0.01311  90.0   1.22      0  0.403  7.249  21.9   8.6966    5   226   \n",
       "380  88.97620   0.0  18.10      0  0.671  6.968  91.9   1.4165   24   666   \n",
       "497   0.26838   0.0   9.69      0  0.585  5.794  70.6   2.8927    6   391   \n",
       "354   0.04301  80.0   1.91      0  0.413  5.663  21.9  10.5857    4   334   \n",
       "170   1.20742   0.0  19.58      0  0.605  5.875  94.6   2.4259    5   403   \n",
       "\n",
       "     PTRATIO       B  LSTAT  MEDV  \n",
       "150     14.7  372.80  14.10  21.5  \n",
       "53      16.8  396.90   8.43  23.4  \n",
       "496     19.2  396.90  21.14  19.7  \n",
       "1       17.8  396.90   9.14  21.6  \n",
       "183     17.8  396.90   5.68  32.5  \n",
       "..       ...     ...    ...   ...  \n",
       "55      17.9  395.93   4.81  35.4  \n",
       "380     20.2  396.90  17.21  10.4  \n",
       "497     19.2  396.90  14.10  18.3  \n",
       "354     22.0  382.80   8.05  18.2  \n",
       "170     14.7  292.29  14.43  17.4  \n",
       "\n",
       "[102 rows x 14 columns]"
      ]
     },
     "execution_count": 16,
     "metadata": {},
     "output_type": "execute_result"
    }
   ],
   "source": [
    "strat_test_set"
   ]
  },
  {
   "cell_type": "code",
   "execution_count": 17,
   "id": "confirmed-scheduling",
   "metadata": {},
   "outputs": [
    {
     "data": {
      "text/plain": [
       "24    27\n",
       "5     23\n",
       "4     22\n",
       "3      8\n",
       "2      5\n",
       "6      5\n",
       "8      5\n",
       "1      4\n",
       "7      3\n",
       "Name: RAD, dtype: int64"
      ]
     },
     "execution_count": 17,
     "metadata": {},
     "output_type": "execute_result"
    }
   ],
   "source": [
    "strat_test_set['RAD'].value_counts()"
   ]
  },
  {
   "cell_type": "code",
   "execution_count": 18,
   "id": "scheduled-increase",
   "metadata": {},
   "outputs": [
    {
     "data": {
      "text/plain": [
       "24    105\n",
       "5      92\n",
       "4      88\n",
       "3      30\n",
       "6      21\n",
       "2      19\n",
       "8      19\n",
       "1      16\n",
       "7      14\n",
       "Name: RAD, dtype: int64"
      ]
     },
     "execution_count": 18,
     "metadata": {},
     "output_type": "execute_result"
    }
   ],
   "source": [
    " strat_train_set['RAD'].value_counts()"
   ]
  },
  {
   "cell_type": "code",
   "execution_count": 19,
   "id": "static-ranking",
   "metadata": {},
   "outputs": [],
   "source": [
    "#27/5"
   ]
  },
  {
   "cell_type": "code",
   "execution_count": 20,
   "id": "administrative-somalia",
   "metadata": {},
   "outputs": [],
   "source": [
    "#105/19"
   ]
  },
  {
   "cell_type": "code",
   "execution_count": 21,
   "id": "challenging-genome",
   "metadata": {},
   "outputs": [],
   "source": [
    "housing = strat_train_set.copy()"
   ]
  },
  {
   "cell_type": "markdown",
   "id": "transsexual-purse",
   "metadata": {},
   "source": [
    "## 2nd Method for Train-Test Splitting"
   ]
  },
  {
   "cell_type": "code",
   "execution_count": 22,
   "id": "executive-portable",
   "metadata": {},
   "outputs": [],
   "source": [
    "#for learning purpose    \n",
    "import numpy as np\n",
    "\n",
    "def split_train_test(data,test_ratio):\n",
    "    np.random.seed(42)\n",
    "    shuffled = np.random.permutation(len(data))\n",
    "    test_set_size = int(len(data) * test_ratio)\n",
    "    test_indices = shuffled[:test_set_size]\n",
    "    train_indices = shuffled[test_set_size:]\n",
    "    return data.iloc[train_indices], data.iloc[test_indices]"
   ]
  },
  {
   "cell_type": "code",
   "execution_count": 23,
   "id": "loaded-arabic",
   "metadata": {},
   "outputs": [],
   "source": [
    "housing = strat_train_set.copy()"
   ]
  },
  {
   "cell_type": "markdown",
   "id": "ultimate-webster",
   "metadata": {},
   "source": [
    "## Looking for Correlations"
   ]
  },
  {
   "cell_type": "code",
   "execution_count": 24,
   "id": "comprehensive-transformation",
   "metadata": {},
   "outputs": [
    {
     "data": {
      "text/plain": [
       "MEDV       1.000000\n",
       "RM         0.739452\n",
       "ZN         0.391509\n",
       "B          0.358174\n",
       "DIS        0.283343\n",
       "CHAS       0.149342\n",
       "CRIM      -0.409965\n",
       "AGE       -0.411394\n",
       "RAD       -0.419534\n",
       "NOX       -0.454486\n",
       "TAX       -0.509465\n",
       "INDUS     -0.526799\n",
       "PTRATIO   -0.553600\n",
       "LSTAT     -0.748501\n",
       "Name: MEDV, dtype: float64"
      ]
     },
     "execution_count": 24,
     "metadata": {},
     "output_type": "execute_result"
    }
   ],
   "source": [
    "corr_matrix = housing.corr()\n",
    "corr_matrix['MEDV'].sort_values(ascending=False)"
   ]
  },
  {
   "cell_type": "code",
   "execution_count": 25,
   "id": "supposed-watch",
   "metadata": {},
   "outputs": [
    {
     "data": {
      "image/png": "[encoded data removed]",
      "text/plain": [
       "<Figure size 864x576 with 16 Axes>"
      ]
     },
     "metadata": {
      "needs_background": "light"
     },
     "output_type": "display_data"
    }
   ],
   "source": [
    "from pandas.plotting import scatter_matrix\n",
    "df = pd.DataFrame(np.random.randn(1000, 4), columns=[\"a\", \"b\", \"c\", \"d\"])\n",
    "scatter_matrix(df, alpha=0.2, figsize=(12, 8), diagonal=\"kde\");"
   ]
  },
  {
   "cell_type": "markdown",
   "id": "industrial-motorcycle",
   "metadata": {},
   "source": [
    "## How common factors affect"
   ]
  },
  {
   "cell_type": "code",
   "execution_count": 26,
   "id": "steady-winning",
   "metadata": {},
   "outputs": [
    {
     "data": {
      "text/plain": [
       "<AxesSubplot:xlabel='RM', ylabel='MEDV'>"
      ]
     },
     "execution_count": 26,
     "metadata": {},
     "output_type": "execute_result"
    },
    {
     "data": {
      "image/png": "[encoded data removed]",
      "text/plain": [
       "<Figure size 432x288 with 1 Axes>"
      ]
     },
     "metadata": {
      "needs_background": "light"
     },
     "output_type": "display_data"
    }
   ],
   "source": [
    "housing.plot(kind = \"scatter\", x = \"RM\", y = \"MEDV\", alpha = 0.8)"
   ]
  },
  {
   "cell_type": "code",
   "execution_count": 27,
   "id": "oriental-silence",
   "metadata": {},
   "outputs": [
    {
     "data": {
      "text/plain": [
       "<AxesSubplot:xlabel='LSTAT', ylabel='MEDV'>"
      ]
     },
     "execution_count": 27,
     "metadata": {},
     "output_type": "execute_result"
    },
    {
     "data": {
      "image/png": "[encoded data removed]",
      "text/plain": [
       "<Figure size 432x288 with 1 Axes>"
      ]
     },
     "metadata": {
      "needs_background": "light"
     },
     "output_type": "display_data"
    }
   ],
   "source": [
    "housing.plot(kind = \"scatter\", x = \"LSTAT\", y = \"MEDV\", alpha = 0.8)"
   ]
  },
  {
   "cell_type": "code",
   "execution_count": 28,
   "id": "intensive-sodium",
   "metadata": {},
   "outputs": [
    {
     "data": {
      "text/plain": [
       "Text(0.5, 1.0, 'pupil-teacher ratio vs % lower status of the population')"
      ]
     },
     "execution_count": 28,
     "metadata": {},
     "output_type": "execute_result"
    },
    {
     "data": {
      "image/png": "[encoded data removed]",
      "text/plain": [
       "<Figure size 432x288 with 1 Axes>"
      ]
     },
     "metadata": {
      "needs_background": "light"
     },
     "output_type": "display_data"
    }
   ],
   "source": [
    "plt.scatter(housing.PTRATIO,housing.LSTAT)\n",
    "plt.title(\"pupil-teacher ratio vs % lower status of the population\")"
   ]
  },
  {
   "cell_type": "code",
   "execution_count": 29,
   "id": "charged-canal",
   "metadata": {},
   "outputs": [
    {
     "data": {
      "text/plain": [
       "Text(0.5, 1.0, 'distances to five Boston employment centres vs % Median value')"
      ]
     },
     "execution_count": 29,
     "metadata": {},
     "output_type": "execute_result"
    },
    {
     "data": {
      "image/png": "[encoded data removed]",
      "text/plain": [
       "<Figure size 432x288 with 1 Axes>"
      ]
     },
     "metadata": {
      "needs_background": "light"
     },
     "output_type": "display_data"
    }
   ],
   "source": [
    "plt.scatter(housing.DIS,housing.MEDV)\n",
    "plt.title(\"distances to five Boston employment centres vs % Median value\")"
   ]
  },
  {
   "cell_type": "markdown",
   "id": "meaningful-commitment",
   "metadata": {},
   "source": [
    "**The plot that we used above is called scatter plot , scatter plot helps us to see how our data points are scattered and are usually used for two variables.**"
   ]
  },
  {
   "cell_type": "code",
   "execution_count": 30,
   "id": "hindu-processor",
   "metadata": {},
   "outputs": [],
   "source": [
    "housing = strat_train_set.drop(\"MEDV\", axis=1)\n",
    "housing_labels = strat_train_set[\"MEDV\"].copy()"
   ]
  },
  {
   "cell_type": "markdown",
   "id": "minute-capitol",
   "metadata": {},
   "source": [
    "# Missing attributes"
   ]
  },
  {
   "cell_type": "markdown",
   "id": "planned-petite",
   "metadata": {},
   "source": [
    "**To take care of missing attributes, you have three options:**\n",
    "1) Get rid of the missing data points<br>\n",
    "2) Get rid of the whole attribute\n",
    "<br>3) Set the value to some value(0, mean or median)"
   ]
  },
  {
   "cell_type": "markdown",
   "id": "ranging-soccer",
   "metadata": {},
   "source": [
    "### Option 1"
   ]
  },
  {
   "cell_type": "code",
   "execution_count": 31,
   "id": "entertaining-boundary",
   "metadata": {},
   "outputs": [],
   "source": [
    "#a = housing.dropna(subset=[\"dataset\"]) \n",
    "#a.shape"
   ]
  },
  {
   "cell_type": "markdown",
   "id": "royal-boutique",
   "metadata": {},
   "source": [
    "***Note that the original housing dataframe will remain unchanged***"
   ]
  },
  {
   "cell_type": "markdown",
   "id": "portuguese-knowing",
   "metadata": {},
   "source": [
    "### Option 2"
   ]
  },
  {
   "cell_type": "code",
   "execution_count": 32,
   "id": "central-suspect",
   "metadata": {},
   "outputs": [],
   "source": [
    "#housing.drop(\"dataset\", axis=1).shape "
   ]
  },
  {
   "cell_type": "markdown",
   "id": "unauthorized-soundtrack",
   "metadata": {},
   "source": [
    "***Note that there is no dataset column and also note that the original housing dataframe will remain unchanged***"
   ]
  },
  {
   "cell_type": "markdown",
   "id": "floating-expression",
   "metadata": {},
   "source": [
    "### Option 3"
   ]
  },
  {
   "cell_type": "code",
   "execution_count": 33,
   "id": "respiratory-indonesia",
   "metadata": {},
   "outputs": [],
   "source": [
    "#median = housing[\"dataset\"].median() # Compute median\n",
    "#housing[\"detaset\"].fillna(median) "
   ]
  },
  {
   "cell_type": "markdown",
   "id": "novel-capability",
   "metadata": {},
   "source": [
    "***Note that the original housing dataframe will remain unchanged***"
   ]
  },
  {
   "cell_type": "markdown",
   "id": "coated-volleyball",
   "metadata": {},
   "source": [
    "## Another Option"
   ]
  },
  {
   "cell_type": "code",
   "execution_count": 34,
   "id": "innocent-jersey",
   "metadata": {},
   "outputs": [],
   "source": [
    "#from sklearn.impute import SimpleImputer\n",
    "#imputer = SimpleImputer(strategy=\"median\")\n",
    "#imputer.fit(housing)\n",
    "#imputer.statistics_\n",
    "#X = imputer.transform(housing)\n",
    "#housing_tr = pd.DataFrame(X, columns=housing.columns)\n",
    "#housing_tr.describe()"
   ]
  },
  {
   "cell_type": "markdown",
   "id": "nutritional-charge",
   "metadata": {},
   "source": [
    "# Scikit-learn Design"
   ]
  },
  {
   "cell_type": "markdown",
   "id": "fourth-pendant",
   "metadata": {},
   "source": [
    "***Primarily, three types of objects***\n",
    "\n",
    "1. Estimators - It estimates some parameter based on a dataset. Eg. imputer. It has a fit method and transform method. Fit method - Fits the dataset and calculates internal parameters\n",
    "<br>\n",
    "\n",
    "2. Transformers - transform method takes input and returns output based on the learnings from fit(). It also has a convenience function called fit_transform() which fits and then transforms.\n",
    "<br>\n",
    "\n",
    "3. Predictors - LinearRegression model is an example of predictor. fit() and predict() are two common functions. It also gives score() function which will evaluate the predictions."
   ]
  },
  {
   "cell_type": "markdown",
   "id": "native-batch",
   "metadata": {},
   "source": [
    "# Feature Scaling"
   ]
  },
  {
   "cell_type": "markdown",
   "id": "handmade-stuart",
   "metadata": {},
   "source": [
    "***Primarily, two types of feature scaling methods:*** \n",
    "\n",
    "1. Min-max scaling (Normalization) \n",
    "<br>(value - min)/(max - min) <br>\n",
    "Sklearn provides a class called MinMaxScaler for this\n",
    "\n",
    "\n",
    "2. Standardization \n",
    "<br>(value - mean)/std <br>\n",
    "Sklearn provides a class called StandardScaler for this"
   ]
  },
  {
   "cell_type": "markdown",
   "id": "effective-kinase",
   "metadata": {},
   "source": [
    "# Creating a Pipeline"
   ]
  },
  {
   "cell_type": "markdown",
   "id": "medieval-devil",
   "metadata": {},
   "source": [
    "As the name suggests, pipeline class allows sticking multiple processes into a single scikit-learn estimator. pipeline class has fit, predict and score method just like any other estimator (ex. LinearRegression).\n",
    "\n",
    "To implement pipeline, as usual we separate features and labels from the data-set at first."
   ]
  },
  {
   "cell_type": "code",
   "execution_count": 35,
   "id": "stretch-grave",
   "metadata": {},
   "outputs": [],
   "source": [
    "from sklearn.impute import SimpleImputer\n",
    "from sklearn.pipeline import Pipeline\n",
    "from sklearn.preprocessing import StandardScaler\n",
    "my_pipeline = Pipeline([\n",
    "    ('imputer', SimpleImputer(strategy=\"median\")),\n",
    "    #     ..... add as many as you want in your pipeline\n",
    "    ('std_scaler', StandardScaler()),\n",
    "])"
   ]
  },
  {
   "cell_type": "code",
   "execution_count": 36,
   "id": "equivalent-compression",
   "metadata": {},
   "outputs": [
    {
     "data": {
      "text/plain": [
       "(404, 13)"
      ]
     },
     "execution_count": 36,
     "metadata": {},
     "output_type": "execute_result"
    }
   ],
   "source": [
    "housing_num_tr = my_pipeline.fit_transform(housing)\n",
    "housing_num_tr.shape"
   ]
  },
  {
   "cell_type": "code",
   "execution_count": 37,
   "id": "posted-discussion",
   "metadata": {},
   "outputs": [
    {
     "data": {
      "text/plain": [
       "array([[-0.43803561, -0.48816033, -1.03122246, ..., -0.88075763,\n",
       "         0.41171531, -0.42841599],\n",
       "       [-0.43974299, -0.48816033,  2.07938386, ...,  0.28298544,\n",
       "         0.2462144 ,  0.21279566],\n",
       "       [ 0.71161886, -0.48816033,  0.99211174, ...,  0.79503239,\n",
       "         0.39841993,  0.60749398],\n",
       "       ...,\n",
       "       [-0.23448864, -0.48816033, -0.44222339, ...,  1.16743018,\n",
       "        -1.12969803,  1.05343384],\n",
       "       [-0.43364064,  0.05180455, -0.48110597, ..., -1.53245375,\n",
       "         0.45075055,  0.07430503],\n",
       "       [-0.42925766, -0.48816033,  2.07938386, ...,  0.28298544,\n",
       "         0.1679312 ,  1.75558137]])"
      ]
     },
     "execution_count": 37,
     "metadata": {},
     "output_type": "execute_result"
    }
   ],
   "source": [
    "housing_num_tr"
   ]
  },
  {
   "cell_type": "markdown",
   "id": "legislative-wiring",
   "metadata": {},
   "source": [
    "# LinearRegression"
   ]
  },
  {
   "cell_type": "markdown",
   "id": "thousand-missile",
   "metadata": {},
   "source": [
    "The objective of a linear regression model is to find a relationship between one or more features(independent variables) and a continuous target variable(dependent variable). \n",
    "\n",
    "When there is only feature it is called Uni-variate Linear Regression and if there are multiple features, it is called Multiple Linear Regression.\n",
    "\n",
    "It is a very powerful technique and can be used to understand the factors that influence profitability. \n",
    "\n",
    "It can be used to forecast sales in the coming months by analyzing the sales data for previous months. It can also be used to gain various insights about customer behaviour."
   ]
  },
  {
   "cell_type": "code",
   "execution_count": 38,
   "id": "rolled-constitution",
   "metadata": {},
   "outputs": [
    {
     "data": {
      "text/plain": [
       "LinearRegression()"
      ]
     },
     "execution_count": 38,
     "metadata": {},
     "output_type": "execute_result"
    }
   ],
   "source": [
    "from sklearn.linear_model import LinearRegression\n",
    "model_1 = LinearRegression()\n",
    "model_1.fit(housing_num_tr, housing_labels)"
   ]
  },
  {
   "cell_type": "code",
   "execution_count": 39,
   "id": "thick-house",
   "metadata": {},
   "outputs": [],
   "source": [
    "some_data = housing.iloc[:5]"
   ]
  },
  {
   "cell_type": "code",
   "execution_count": 40,
   "id": "optional-blocking",
   "metadata": {},
   "outputs": [],
   "source": [
    "some_labels = housing_labels.iloc[:5]"
   ]
  },
  {
   "cell_type": "code",
   "execution_count": 41,
   "id": "unknown-bankruptcy",
   "metadata": {},
   "outputs": [],
   "source": [
    "prepared_data = my_pipeline.transform(some_data)"
   ]
  },
  {
   "cell_type": "code",
   "execution_count": 42,
   "id": "classical-rebecca",
   "metadata": {},
   "outputs": [
    {
     "data": {
      "text/plain": [
       "array([25.57911085, 22.47636908, 19.99770163, 11.63467021, 21.62761569])"
      ]
     },
     "execution_count": 42,
     "metadata": {},
     "output_type": "execute_result"
    }
   ],
   "source": [
    "model_1.predict(prepared_data)"
   ]
  },
  {
   "cell_type": "code",
   "execution_count": 43,
   "id": "comfortable-college",
   "metadata": {},
   "outputs": [
    {
     "data": {
      "text/plain": [
       "[22.6, 20.3, 13.1, 10.8, 20.7]"
      ]
     },
     "execution_count": 43,
     "metadata": {},
     "output_type": "execute_result"
    }
   ],
   "source": [
    "list(some_labels)"
   ]
  },
  {
   "cell_type": "markdown",
   "id": "heard-uzbekistan",
   "metadata": {},
   "source": [
    "## DecisionTreeRegressor"
   ]
  },
  {
   "cell_type": "markdown",
   "id": "voluntary-distribution",
   "metadata": {},
   "source": [
    "**Decision Trees are popular because they have two key properties:**\n",
    "\n",
    "1. Simplicity: Decision Trees are simple, visually appealing and are easy to interpret.\n",
    "\n",
    "2. Accuracy: Advance Decision Tree models show exceptional performance in predicting patterns in complex data.\n",
    "\n",
    "A decision tree is a decision support tool that uses a tree-like model of decisions and their possible consequences, including chance event outcomes, resource costs, and utility.\n",
    "\n",
    "Regression Trees are used for continuous quantitative target variables.\n",
    "Example: Predicting rainfall; Predicting revenue; Predicting marks etc."
   ]
  },
  {
   "cell_type": "code",
   "execution_count": 44,
   "id": "quality-dispatch",
   "metadata": {},
   "outputs": [
    {
     "data": {
      "text/plain": [
       "DecisionTreeRegressor()"
      ]
     },
     "execution_count": 44,
     "metadata": {},
     "output_type": "execute_result"
    }
   ],
   "source": [
    "from sklearn.tree import DecisionTreeRegressor\n",
    "model_2 = DecisionTreeRegressor()\n",
    "model_2.fit(housing_num_tr, housing_labels)"
   ]
  },
  {
   "cell_type": "code",
   "execution_count": 45,
   "id": "narrow-methodology",
   "metadata": {},
   "outputs": [],
   "source": [
    "some_data = housing.iloc[:5]"
   ]
  },
  {
   "cell_type": "code",
   "execution_count": 46,
   "id": "divine-score",
   "metadata": {},
   "outputs": [],
   "source": [
    "some_labels = housing_labels.iloc[:5]"
   ]
  },
  {
   "cell_type": "code",
   "execution_count": 47,
   "id": "greatest-nowhere",
   "metadata": {},
   "outputs": [],
   "source": [
    "prepared_data = my_pipeline.transform(some_data)"
   ]
  },
  {
   "cell_type": "code",
   "execution_count": 48,
   "id": "coordinate-globe",
   "metadata": {},
   "outputs": [
    {
     "data": {
      "text/plain": [
       "array([22.6, 20.3, 13.1, 10.8, 20.7])"
      ]
     },
     "execution_count": 48,
     "metadata": {},
     "output_type": "execute_result"
    }
   ],
   "source": [
    "model_2.predict(prepared_data)"
   ]
  },
  {
   "cell_type": "code",
   "execution_count": 49,
   "id": "genuine-bradley",
   "metadata": {},
   "outputs": [
    {
     "data": {
      "text/plain": [
       "[22.6, 20.3, 13.1, 10.8, 20.7]"
      ]
     },
     "execution_count": 49,
     "metadata": {},
     "output_type": "execute_result"
    }
   ],
   "source": [
    "list(some_labels)"
   ]
  },
  {
   "cell_type": "markdown",
   "id": "pharmaceutical-revelation",
   "metadata": {},
   "source": [
    "## RandomForestRegressor()"
   ]
  },
  {
   "cell_type": "markdown",
   "id": "biblical-description",
   "metadata": {},
   "source": [
    "A Random Forest is an ensemble technique capable of performing both regression and classification tasks with the use of multiple decision trees and a technique called Bootstrap and Aggregation, commonly known as bagging.\n",
    "\n",
    "Random Forest has multiple decision trees as base learning models. We randomly perform row sampling and feature sampling from the dataset forming sample datasets for every model."
   ]
  },
  {
   "cell_type": "code",
   "execution_count": 50,
   "id": "lucky-compromise",
   "metadata": {},
   "outputs": [
    {
     "data": {
      "text/plain": [
       "RandomForestRegressor()"
      ]
     },
     "execution_count": 50,
     "metadata": {},
     "output_type": "execute_result"
    }
   ],
   "source": [
    "from sklearn.ensemble import RandomForestRegressor\n",
    "model_3 = RandomForestRegressor()\n",
    "model_3.fit(housing_num_tr, housing_labels)"
   ]
  },
  {
   "cell_type": "code",
   "execution_count": 51,
   "id": "adequate-intro",
   "metadata": {},
   "outputs": [],
   "source": [
    "some_data = housing.iloc[:5]"
   ]
  },
  {
   "cell_type": "code",
   "execution_count": 52,
   "id": "burning-onion",
   "metadata": {},
   "outputs": [],
   "source": [
    "some_labels = housing_labels.iloc[:5]"
   ]
  },
  {
   "cell_type": "code",
   "execution_count": 53,
   "id": "covered-exemption",
   "metadata": {},
   "outputs": [],
   "source": [
    "prepared_data = my_pipeline.transform(some_data)"
   ]
  },
  {
   "cell_type": "code",
   "execution_count": 54,
   "id": "advanced-ranch",
   "metadata": {},
   "outputs": [
    {
     "data": {
      "text/plain": [
       "array([22.008, 21.167, 13.458, 10.432, 21.739])"
      ]
     },
     "execution_count": 54,
     "metadata": {},
     "output_type": "execute_result"
    }
   ],
   "source": [
    "model_3.predict(prepared_data)"
   ]
  },
  {
   "cell_type": "code",
   "execution_count": 55,
   "id": "functional-contents",
   "metadata": {},
   "outputs": [
    {
     "data": {
      "text/plain": [
       "[22.6, 20.3, 13.1, 10.8, 20.7]"
      ]
     },
     "execution_count": 55,
     "metadata": {},
     "output_type": "execute_result"
    }
   ],
   "source": [
    "list(some_labels)"
   ]
  },
  {
   "cell_type": "markdown",
   "id": "equipped-trust",
   "metadata": {},
   "source": [
    "# Evaluating the model"
   ]
  },
  {
   "cell_type": "markdown",
   "id": "white-panic",
   "metadata": {},
   "source": [
    "**Modal-1**"
   ]
  },
  {
   "cell_type": "code",
   "execution_count": 56,
   "id": "racial-socket",
   "metadata": {},
   "outputs": [],
   "source": [
    "from sklearn.metrics import mean_squared_error\n",
    "housing_predictions = model_1.predict(housing_num_tr)\n",
    "mse_1 = mean_squared_error(housing_labels, housing_predictions)\n",
    "rmse_1 = np.sqrt(mse_1)"
   ]
  },
  {
   "cell_type": "code",
   "execution_count": 57,
   "id": "opponent-alberta",
   "metadata": {},
   "outputs": [
    {
     "data": {
      "text/plain": [
       "4.206793512297368"
      ]
     },
     "execution_count": 57,
     "metadata": {},
     "output_type": "execute_result"
    }
   ],
   "source": [
    "rmse_1"
   ]
  },
  {
   "cell_type": "markdown",
   "id": "sporting-struggle",
   "metadata": {},
   "source": [
    "**Modal-2**"
   ]
  },
  {
   "cell_type": "code",
   "execution_count": 58,
   "id": "comparable-trustee",
   "metadata": {},
   "outputs": [],
   "source": [
    "from sklearn.metrics import mean_squared_error\n",
    "housing_predictions = model_2.predict(housing_num_tr)\n",
    "mse_2 = mean_squared_error(housing_labels, housing_predictions)\n",
    "rmse_2 = np.sqrt(mse_2)"
   ]
  },
  {
   "cell_type": "code",
   "execution_count": 59,
   "id": "metallic-crest",
   "metadata": {},
   "outputs": [
    {
     "data": {
      "text/plain": [
       "0.0"
      ]
     },
     "execution_count": 59,
     "metadata": {},
     "output_type": "execute_result"
    }
   ],
   "source": [
    "rmse_2"
   ]
  },
  {
   "cell_type": "markdown",
   "id": "every-implementation",
   "metadata": {},
   "source": [
    "**Modal-3**"
   ]
  },
  {
   "cell_type": "code",
   "execution_count": 60,
   "id": "animal-earthquake",
   "metadata": {},
   "outputs": [],
   "source": [
    "from sklearn.metrics import mean_squared_error\n",
    "housing_predictions = model_3.predict(housing_num_tr)\n",
    "mse_3 = mean_squared_error(housing_labels, housing_predictions)\n",
    "rmse_3 = np.sqrt(mse_3)"
   ]
  },
  {
   "cell_type": "code",
   "execution_count": 61,
   "id": "qualified-tunisia",
   "metadata": {},
   "outputs": [
    {
     "data": {
      "text/plain": [
       "1.2252924857937275"
      ]
     },
     "execution_count": 61,
     "metadata": {},
     "output_type": "execute_result"
    }
   ],
   "source": [
    "rmse_3"
   ]
  },
  {
   "cell_type": "markdown",
   "id": "burning-speech",
   "metadata": {},
   "source": [
    "# better evaluation technique - Cross Validation"
   ]
  },
  {
   "cell_type": "markdown",
   "id": "rapid-jefferson",
   "metadata": {},
   "source": [
    "The simplest way to use cross-validation is to call the cross_val_score helper function on the estimator and the dataset.\n",
    "\n",
    "It is also possible to use other cross validation strategies by passing a cross validation iterator instead.\n",
    "\n",
    "Another option is to use an iterable yielding (train, test) splits as arrays of indices."
   ]
  },
  {
   "cell_type": "markdown",
   "id": "exempt-sewing",
   "metadata": {},
   "source": [
    "**Model-1**"
   ]
  },
  {
   "cell_type": "code",
   "execution_count": 62,
   "id": "narrow-bobby",
   "metadata": {},
   "outputs": [],
   "source": [
    "from sklearn.model_selection import cross_val_score\n",
    "scores = cross_val_score(model_1, housing_num_tr, housing_labels, scoring=\"neg_mean_squared_error\", cv=10)\n",
    "rmse_scores_1 = np.sqrt(-scores)"
   ]
  },
  {
   "cell_type": "code",
   "execution_count": 63,
   "id": "fifth-vampire",
   "metadata": {},
   "outputs": [
    {
     "data": {
      "text/plain": [
       "array([4.41815951, 5.17497837, 5.48149513, 3.8554281 , 4.97148826,\n",
       "       3.68897176, 4.36462307, 3.98502589, 4.34867916, 4.01416382])"
      ]
     },
     "execution_count": 63,
     "metadata": {},
     "output_type": "execute_result"
    }
   ],
   "source": [
    "rmse_scores_1"
   ]
  },
  {
   "cell_type": "markdown",
   "id": "broad-worst",
   "metadata": {},
   "source": [
    "**Model-2**"
   ]
  },
  {
   "cell_type": "code",
   "execution_count": 64,
   "id": "australian-canon",
   "metadata": {},
   "outputs": [],
   "source": [
    "from sklearn.model_selection import cross_val_score\n",
    "scores = cross_val_score(model_2, housing_num_tr, housing_labels, scoring=\"neg_mean_squared_error\", cv=10)\n",
    "rmse_scores_2 = np.sqrt(-scores)"
   ]
  },
  {
   "cell_type": "code",
   "execution_count": 65,
   "id": "underlying-consciousness",
   "metadata": {},
   "outputs": [
    {
     "data": {
      "text/plain": [
       "array([3.29508133, 4.70876194, 5.57360942, 3.66995049, 4.38061069,\n",
       "       3.46059966, 3.46384902, 4.0295161 , 3.37083076, 3.23967591])"
      ]
     },
     "execution_count": 65,
     "metadata": {},
     "output_type": "execute_result"
    }
   ],
   "source": [
    "rmse_scores_2"
   ]
  },
  {
   "cell_type": "markdown",
   "id": "transparent-champion",
   "metadata": {},
   "source": [
    "**Model-3**"
   ]
  },
  {
   "cell_type": "code",
   "execution_count": 66,
   "id": "accepted-outline",
   "metadata": {},
   "outputs": [],
   "source": [
    "from sklearn.model_selection import cross_val_score\n",
    "scores = cross_val_score(model_3, housing_num_tr, housing_labels, scoring=\"neg_mean_squared_error\", cv=10)\n",
    "rmse_scores_3 = np.sqrt(-scores)"
   ]
  },
  {
   "cell_type": "code",
   "execution_count": 67,
   "id": "postal-minutes",
   "metadata": {},
   "outputs": [
    {
     "data": {
      "text/plain": [
       "array([2.58979444, 4.31233298, 5.59292775, 3.02519652, 3.13434759,\n",
       "       2.51808313, 2.98479121, 2.86454538, 2.99876276, 2.73589262])"
      ]
     },
     "execution_count": 67,
     "metadata": {},
     "output_type": "execute_result"
    }
   ],
   "source": [
    "rmse_scores_3"
   ]
  },
  {
   "cell_type": "markdown",
   "id": "sharing-birth",
   "metadata": {},
   "source": [
    "### Printing Mean,Std.Deviation"
   ]
  },
  {
   "cell_type": "code",
   "execution_count": 68,
   "id": "small-blend",
   "metadata": {},
   "outputs": [],
   "source": [
    "def print_scores(scores):\n",
    "    print(\"Scores:\", scores)\n",
    "    print(\"Mean: \", scores.mean())\n",
    "    print(\"Standard deviation: \", scores.std())"
   ]
  },
  {
   "cell_type": "markdown",
   "id": "dietary-league",
   "metadata": {},
   "source": [
    "**Model-1**"
   ]
  },
  {
   "cell_type": "code",
   "execution_count": 69,
   "id": "selected-wound",
   "metadata": {},
   "outputs": [
    {
     "name": "stdout",
     "output_type": "stream",
     "text": [
      "Scores: [4.41815951 5.17497837 5.48149513 3.8554281  4.97148826 3.68897176\n",
      " 4.36462307 3.98502589 4.34867916 4.01416382]\n",
      "Mean:  4.430301307401365\n",
      "Standard deviation:  0.5670139520585715\n"
     ]
    }
   ],
   "source": [
    "print_scores(rmse_scores_1)"
   ]
  },
  {
   "cell_type": "markdown",
   "id": "compressed-happiness",
   "metadata": {},
   "source": [
    "**Model-2**"
   ]
  },
  {
   "cell_type": "code",
   "execution_count": 70,
   "id": "military-beverage",
   "metadata": {},
   "outputs": [
    {
     "name": "stdout",
     "output_type": "stream",
     "text": [
      "Scores: [3.29508133 4.70876194 5.57360942 3.66995049 4.38061069 3.46059966\n",
      " 3.46384902 4.0295161  3.37083076 3.23967591]\n",
      "Mean:  3.919248530923929\n",
      "Standard deviation:  0.7223100487388772\n"
     ]
    }
   ],
   "source": [
    "print_scores(rmse_scores_2)"
   ]
  },
  {
   "cell_type": "markdown",
   "id": "turned-butterfly",
   "metadata": {},
   "source": [
    "**Model-3**"
   ]
  },
  {
   "cell_type": "code",
   "execution_count": 71,
   "id": "fatty-hygiene",
   "metadata": {},
   "outputs": [
    {
     "name": "stdout",
     "output_type": "stream",
     "text": [
      "Scores: [2.58979444 4.31233298 5.59292775 3.02519652 3.13434759 2.51808313\n",
      " 2.98479121 2.86454538 2.99876276 2.73589262]\n",
      "Mean:  3.2756674367152714\n",
      "Standard deviation:  0.9051572747826646\n"
     ]
    }
   ],
   "source": [
    "print_scores(rmse_scores_3)"
   ]
  },
  {
   "cell_type": "markdown",
   "id": "pleasant-ottawa",
   "metadata": {},
   "source": [
    "# Saving the model"
   ]
  },
  {
   "cell_type": "code",
   "execution_count": 72,
   "id": "useful-sucking",
   "metadata": {},
   "outputs": [
    {
     "data": {
      "text/plain": [
       "['RE.joblib']"
      ]
     },
     "execution_count": 72,
     "metadata": {},
     "output_type": "execute_result"
    }
   ],
   "source": [
    "from joblib import dump, load\n",
    "dump(model_3, 'RE.joblib')"
   ]
  },
  {
   "cell_type": "markdown",
   "id": "governmental-sydney",
   "metadata": {},
   "source": [
    "# Testing the model on test data"
   ]
  },
  {
   "cell_type": "code",
   "execution_count": 73,
   "id": "collaborative-trailer",
   "metadata": {},
   "outputs": [],
   "source": [
    "X_test = strat_test_set.drop(\"MEDV\", axis=1)\n",
    "Y_test = strat_test_set[\"MEDV\"].copy()\n",
    "X_test_prepared = my_pipeline.transform(X_test)\n",
    "final_predictions = model_3.predict(X_test_prepared)\n",
    "final_mse = mean_squared_error(Y_test, final_predictions)\n",
    "final_rmse = np.sqrt(final_mse)"
   ]
  },
  {
   "cell_type": "code",
   "execution_count": 74,
   "id": "prime-proportion",
   "metadata": {},
   "outputs": [
    {
     "data": {
      "text/plain": [
       "5.133639379086712"
      ]
     },
     "execution_count": 74,
     "metadata": {},
     "output_type": "execute_result"
    }
   ],
   "source": [
    "final_rmse"
   ]
  },
  {
   "cell_type": "code",
   "execution_count": 75,
   "id": "mighty-insulation",
   "metadata": {},
   "outputs": [
    {
     "name": "stdout",
     "output_type": "stream",
     "text": [
      "[19.469 20.864 17.617 22.079 29.063 28.235 11.377 24.155 15.11  15.358\n",
      " 13.167 19.582 17.37  20.813 25.551 47.333 48.263 14.301 20.833 20.647\n",
      " 15.581 24.195 28.772  8.634 19.259 30.019 15.069 28.091 15.509 20.906\n",
      " 23.739 24.519 21.733 13.243 20.289 27.677 23.846 20.876 42.23  33.77\n",
      " 12.382 30.965 20.829 24.818 15.81  21.89  27.469 22.589 22.188 21.161\n",
      " 21.45  30.833 34.061 33.804 29.901 13.061 18.799 18.873 26.481 19.608\n",
      " 29.241 22.995 22.978 19.57  23.656 18.851 12.339 32.911 19.169 17.305\n",
      " 38.778 20.953 13.954 15.566 20.003 33.783 30.037 18.782 16.505 24.991\n",
      " 22.619 33.235 23.892 18.728 20.755 26.681 27.293 32.089  8.845  8.459\n",
      " 14.303 20.051 33.119 19.568 33.008  8.999 15.925 33.623 25.606 20.059\n",
      " 19.347 19.067]\n",
      "[21.5, 23.4, 19.7, 21.6, 32.5, 50.0, 12.7, 25.0, 12.6, 23.2, 17.9, 22.7, 20.0, 22.2, 26.2, 50.0, 50.0, 14.5, 20.8, 22.0, 14.3, 23.0, 17.8, 7.4, 19.4, 24.8, 14.8, 30.8, 18.4, 25.0, 24.5, 14.1, 20.5, 14.9, 19.4, 22.8, 22.1, 21.2, 50.0, 31.7, 10.2, 50.0, 20.3, 26.4, 14.2, 22.2, 28.6, 23.9, 21.2, 22.3, 22.0, 30.7, 36.2, 35.4, 15.0, 12.0, 19.8, 22.5, 25.1, 23.8, 22.0, 23.3, 24.1, 22.9, 23.8, 18.7, 10.9, 30.3, 16.8, 27.1, 50.0, 20.6, 19.1, 16.7, 21.8, 33.2, 50.0, 17.1, 15.6, 25.0, 22.9, 34.7, 25.0, 19.6, 19.9, 23.9, 29.0, 32.2, 5.6, 7.2, 13.6, 20.4, 33.8, 19.4, 36.1, 5.0, 16.5, 35.4, 10.4, 18.3, 18.2, 17.4]\n"
     ]
    }
   ],
   "source": [
    "print(final_predictions) \n",
    "print(list(Y_test))"
   ]
  },
  {
   "cell_type": "markdown",
   "id": "offshore-nudist",
   "metadata": {},
   "source": [
    "### Data for module usage"
   ]
  },
  {
   "cell_type": "code",
   "execution_count": 76,
   "id": "surrounded-omaha",
   "metadata": {},
   "outputs": [
    {
     "data": {
      "text/plain": [
       "array([-0.43803561, -0.48816033, -1.03122246, -0.26761547, -0.38849153,\n",
       "       -0.59044659,  0.014193  , -0.50420611, -0.52206387, -0.67560744,\n",
       "       -0.88075763,  0.41171531, -0.42841599])"
      ]
     },
     "execution_count": 76,
     "metadata": {},
     "output_type": "execute_result"
    }
   ],
   "source": [
    "prepared_data[0]"
   ]
  },
  {
   "cell_type": "code",
   "execution_count": 77,
   "id": "abstract-vertex",
   "metadata": {},
   "outputs": [
    {
     "data": {
      "text/plain": [
       "array([-0.43974299, -0.48816033,  2.07938386, -0.26761547,  0.218856  ,\n",
       "       -0.38796944,  0.55793172, -0.74521334, -0.86744673, -1.31612945,\n",
       "        0.28298544,  0.2462144 ,  0.21279566])"
      ]
     },
     "execution_count": 77,
     "metadata": {},
     "output_type": "execute_result"
    }
   ],
   "source": [
    "prepared_data[1]"
   ]
  },
  {
   "cell_type": "code",
   "execution_count": 78,
   "id": "amazing-ordering",
   "metadata": {},
   "outputs": [
    {
     "data": {
      "text/plain": [
       "array([ 0.71161886, -0.48816033,  0.99211174, -0.26761547,  1.17692535,\n",
       "        0.26414661,  1.07695505, -0.97055152,  1.66536094,  1.51877351,\n",
       "        0.79503239,  0.39841993,  0.60749398])"
      ]
     },
     "execution_count": 78,
     "metadata": {},
     "output_type": "execute_result"
    }
   ],
   "source": [
    "prepared_data[2]"
   ]
  },
  {
   "cell_type": "code",
   "execution_count": null,
   "id": "boxed-shelter",
   "metadata": {},
   "outputs": [],
   "source": []
  }
 ],
 "metadata": {
  "kernelspec": {
   "display_name": "Python 3",
   "language": "python",
   "name": "python3"
  },
  "language_info": {
   "codemirror_mode": {
    "name": "ipython",
    "version": 3
   },
   "file_extension": ".py",
   "mimetype": "text/x-python",
   "name": "python",
   "nbconvert_exporter": "python",
   "pygments_lexer": "ipython3",
   "version": "3.8.5"
  }
 },
 "nbformat": 4,
 "nbformat_minor": 5
}
